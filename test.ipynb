{
 "cells": [
  {
   "cell_type": "code",
   "execution_count": 1,
   "id": "5c875671",
   "metadata": {
    "scrolled": false
   },
   "outputs": [
    {
     "name": "stdout",
     "output_type": "stream",
     "text": [
      "Running on local URL:  http://127.0.0.1:7860/\n",
      "Running on public URL: https://42423.gradio.app\n",
      "\n",
      "This share link expires in 72 hours. For free permanent hosting, check out Spaces (https://huggingface.co/spaces)\n"
     ]
    },
    {
     "data": {
      "text/html": [
       "\n",
       "        <iframe\n",
       "            width=\"900\"\n",
       "            height=\"500\"\n",
       "            src=\"https://42423.gradio.app\"\n",
       "            frameborder=\"0\"\n",
       "            allowfullscreen\n",
       "            \n",
       "        ></iframe>\n",
       "        "
      ],
      "text/plain": [
       "<IPython.lib.display.IFrame at 0x7f8268423670>"
      ]
     },
     "metadata": {},
     "output_type": "display_data"
    },
    {
     "data": {
      "text/plain": [
       "(<fastapi.applications.FastAPI at 0x7f826521d130>,\n",
       " 'http://127.0.0.1:7860/',\n",
       " 'https://42423.gradio.app')"
      ]
     },
     "execution_count": 1,
     "metadata": {},
     "output_type": "execute_result"
    }
   ],
   "source": [
    "import gradio as gr\n",
    "import requests\n",
    "def class_resume(path):\n",
    "    import pandas as pd\n",
    "    import numpy as np\n",
    "    import matplotlib.pyplot as plt\n",
    "    import seaborn as sns\n",
    "    import tensorflow as tf\n",
    "    import webbrowser\n",
    "    import requests\n",
    "    import docx2txt\n",
    "    import re\n",
    "    import os\n",
    "    def split_string():\n",
    "        doc = docx2txt.process(path)\n",
    "        import string\n",
    "        global tesxt_list\n",
    "        res = re.sub('['+string.punctuation+']', '', doc).split()\n",
    "        return res\n",
    "    text_list=split_string()\n",
    "    def student():\n",
    "        if text_list[2]==('Data' or 'Web'):\n",
    "             Student_name=text_list[0]+' '+text_list[1]\n",
    "        if text_list[2] !=('Data' or 'Web'):\n",
    "            Student_name=text_list[0]+' '+text_list[1]+' '+text_list[2]\n",
    "        return Student_name\n",
    "    Student_Name= student()\n",
    "    for i in range(len(text_list)):\n",
    "  \n",
    "      if text_list[i]==('Pandas' or 'Neural' or 'Sklearn' or 'Matplotlib' or 'Tensorflow'):\n",
    "        field='Data Science'\n",
    "      if text_list[i]==\"Django\":\n",
    "        field='Web Developer'\n",
    "    #print(field)\n",
    "\n",
    "    return Student_Name,field\n",
    "\n",
    "iface = gr.Interface(fn=class_resume,inputs=['text'],outputs=['text','text'],title=\"Resume Classification\")\n",
    "\n",
    "iface.launch(share=True)\n",
    "\n"
   ]
  },
  {
   "cell_type": "code",
   "execution_count": 2,
   "id": "185ba358",
   "metadata": {},
   "outputs": [
    {
     "data": {
      "text/plain": [
       "<docx.document.Document at 0x7f82688904c0>"
      ]
     },
     "execution_count": 2,
     "metadata": {},
     "output_type": "execute_result"
    }
   ],
   "source": [
    "import docx\n",
    "\n",
    "doc = docx.Document(\"resumes/fadhila resume.docx\")\n",
    "doc\n"
   ]
  },
  {
   "cell_type": "code",
   "execution_count": 3,
   "id": "094d49eb",
   "metadata": {},
   "outputs": [
    {
     "data": {
      "text/plain": [
       "2"
      ]
     },
     "execution_count": 3,
     "metadata": {},
     "output_type": "execute_result"
    }
   ],
   "source": [
    "all_paras = doc.paragraphs\n",
    "len(all_paras)"
   ]
  },
  {
   "cell_type": "code",
   "execution_count": 4,
   "id": "746c8231",
   "metadata": {},
   "outputs": [
    {
     "name": "stdout",
     "output_type": "stream",
     "text": [
      "\n",
      "-------\n",
      "\n",
      "-------\n"
     ]
    }
   ],
   "source": [
    "for para in all_paras:\n",
    "    print(para.text)\n",
    "    print(\"-------\")"
   ]
  },
  {
   "cell_type": "code",
   "execution_count": 5,
   "id": "e6e27444",
   "metadata": {},
   "outputs": [],
   "source": [
    "import docx2txt\n",
    "doc = docx2txt.process('resumes/fadhila resume.docx')"
   ]
  },
  {
   "cell_type": "code",
   "execution_count": 6,
   "id": "7e02ea94",
   "metadata": {},
   "outputs": [
    {
     "data": {
      "text/plain": [
       "'Fadhila Yousuf\\n\\nData Scientist\\n\\n\\n\\nLinkedIn: https://linkedin.com/in/fadhila-yosof\\n\\nGitHub: https://github.com/fadhilayosof\\n\\nPortfolio: https://fadhilayosof.github.io/Portfolio/\\n\\n\\n\\n \\n\\n\\n\\n\\n\\n4429 count ct. sterling Heights MI, 48310|\\n\\n                                    Cell no 586-718-9379 fmyosof@mtu.edu |                        \\n\\n\\n\\nPROJECTS\\n\\nIdentifying Symptoms of Orthopedic Patients as Normal or Abnormal(Classification Problem)\\n\\nSkills used: Python, Pandas, sklearn, Matplotlib\\n\\nProject Objective: Classifying Biomechanical Features of Orthopedic Patients based on provided features to decrease the time required for diagnosis.\\n\\nQuantifiable result: We could classify the type of tumour resulting in 85% accuracy using the K-means algorithm with K=5\\n\\nWe could classify the same result with 82% accuracy by using the Naive Bayes model\\n\\nGithub:https://github.com/fadhilayosof/Knn_Nb_Project1/blob/main/Knn_Nb_Project.ipynb\\n\\n\\n\\nImplementing Deep Neural Network With Keras For Handwriting Classification and Recognition (MNIST Dataset)\\n\\nSkills Used: Matplotlib, NumPy, Seaborn, Sklearn, Python, Neural Networking, Keras, Tensorflow\\n\\nProject Objective: Implementing Deep Neural Network with Keras for handwriting classification and recognition\\n\\nQuantifiable Results: We could classify the type of number resulting in 97% accuracy. \\n\\nGithub:https://github.com/fadhilayosof/hand_writting_recognition_project.\\n\\n\\n\\nTalkingData Project on Bagging and Boosting Ensemble Model\\n\\nSkilled Used: Python.Pandas and sklearn\\n\\nProject Objective: The classification goal is to The data contains observations of about 240 million clicks, and whether a given click resulted in a download or not (1/0):\\n\\nQuantifiable Result: We could predict whether a given click resulted in a download or not. The accuracy of the XGBoostClassifier is 94.87% Accuracy of the Bagging classifier accuracy is 99%.\\n\\nUsed the XGBoostClassifier & BaggingClassifier whether a 240 million click resulted in a download or not. Compared predictive performance by fitting an XGBoostClassifier & BaggingClassifier model to the data\\n\\nSelected best model based on the train and test performance\\n\\nGithub:https://github.com/fadhilayosof/Bagging_Boosting_Project/blob/main/Bagging_Boosting_Project.ipynb\\n\\n\\n\\nExamining the effect of environmental factors and weather on Bike rentals (Linear Regression)\\n\\nSkills used: Python, Pandas, sklearn, Linear Regression\\n\\nProject Objective: Predicting Bike rental demand on a basis of weather and seasonal factors in advance to take appropriate measures which finally will result in bike utilization.\\n\\nQuantifiable result: We could predict the rental bike count resulting in 78% Accuracy.\\n\\nUsed Linear Regression to predict the number of bikes rented in the city of Seoul\\n\\nGithub:https://github.com/fadhilayosof/linear-regression-project\\n\\n\\n\\nPredicting Employee Attrition \\n\\nSkills used: Python, Pandas, SKlearn, Matplotlib,DecisionTreeRegressor,LinearRegression\\n\\nProject Objective: Using machine learning to predict employee attrition in Python, We use linear Regression,and Decision Tree Regressor as classifier for employee attrition and measure the accuracy of models that are built.\\n\\nQuantifiable Result: We could predict Employee Attrition using linear regression model.\\n\\nThe accuracy of linear regression is 97%\\n\\nEncoded categorical variables to numeric using Sklearn due to the presence of many string columns.\\n\\nThe selected best model is based on train and test performance.\\n\\nGithub:https://github.com/fadhilayosof/Suicide-Rates-Overview-1985-to-2016-project\\n\\n\\n\\nClustering of San Fransisco Employees based on salary (Unsupervised Learning- K means Cluster)\\n\\nSkilled Used: Python.Pandas and sklearn\\n\\nProject Objective: The classification goal is to find the number of clusters for the data. Policymakers to understand how they can improve on their policies for employee benefits\\n\\nQuantifiable Result: We could predict a number of clusters. Used the clustering algorithms, K-Means and Hierarchical clustering.\\n\\nGithub:https://github.com/fadhilayosof/k-means-project/blob/main/Copy_of_k_means_project.ipynb\\n\\n\\n\\n\\n\\n\\n\\n\\t\\t\\t\\t\\t\\t\\n\\n\\n\\n\\t\\t\\t\\t\\t\\n\\n\\t\\t\\t\\t\\n\\n\\t\\t\\t\\n\\n\\t\\t\\n\\n\\n\\n\\n\\nEXPERIENCE\\n\\nGraduate Assistant\\n\\nDepartment of Mathematics and Statistics. \\n\\nMichigan Tech University\\n\\n2015-2018\\n\\nExtensive experience working with large data sets.\\n\\nExceptional ability in analyses, and model and data interpretation.\\n\\nPrepared data analysis plans and produced charts/graphs and statistical reports.\\n\\nOutstanding problem-solving skills.\\n\\n\\n\\nTeacher Assistant\\n\\nDepartment of Statistics. \\n\\nUniversity of Tripoli  Libya,\\n\\n2008-2013\\n\\n  ..\\n\\n..\\n\\n..\\n\\n…\\n\\nSKILLS\\n\\nProgramming Languages: Python.\\n\\nLibrary: NumPy, Pandas, Matplotlib, Seaborn, Scikit-learn, NLTK, TensorFlow, Keras\\n\\nData Science Skills: Data Visualization, Data Cleaning, Exploratory Data Analysis, Probabilities & Statistics, Machine Learning, Predictive Modeling, Model Optimization, Deep Learning, NLP, Model Deployment, Computer Vision.\\n\\nDatabase: MySQL, SQL server\\n\\nOther Skills: Git/GitHub, Auto CAD\\n\\nSoft Skills: Problem Solving, Collaboration, Critical Thinking\\n\\n\\n\\nCERTIFICATION\\n\\nMachine Learning A-Z™: Hands-On Python & R in Data Science, 2020 \\n\\nThe Data Visualization: Excel, Tableau, Python, R Certificate, 2020.\\n\\nThe Complete SQL Bootcamp, 2021. \\n\\n\\n\\nEDUCATION \\n\\nBootcamp - Data Science\\n\\nTECH I.S.,  Santa Clara, \\n\\nOctober 2021-January 2022\\n\\nGraduated as a Data Scientist in an accelerated program with an immersive hands-on project work experience in Python, ML, AI, NLP, Analysis, Data Visualization, Probabilities & Statistics, Learning, Intelligence, etc.,\\n\\n\\nMichigan Tech University\\n\\n Houghton MI\\n\\nM.S. in Statistics (2018)\\n\\n\\n\\nTripoli  University, Libya\\n\\nM.S. in Statistics (2008)\\n\\n\\n\\nAl-Jabal Al Gharbi University\\n\\nGharyan, Libya\\n\\nB.A. in Mathematics\\n\\n2001'"
      ]
     },
     "execution_count": 6,
     "metadata": {},
     "output_type": "execute_result"
    }
   ],
   "source": [
    "doc"
   ]
  },
  {
   "cell_type": "code",
   "execution_count": 7,
   "id": "e21163b7",
   "metadata": {},
   "outputs": [
    {
     "data": {
      "text/plain": [
       "['https://linkedin.com/in/fadhila-yosof',\n",
       " 'https://github.com/fadhilayosof',\n",
       " 'https://fadhilayosof.github.io/Portfolio/',\n",
       " 'https://github.com/fadhilayosof/Knn_Nb_Project1/blob/main/Knn_Nb_Project.ipynb',\n",
       " 'https://github.com/fadhilayosof/hand_writting_recognition_project.',\n",
       " 'https://github.com/fadhilayosof/Bagging_Boosting_Project/blob/main/Bagging_Boosting_Project.ipynb',\n",
       " 'https://github.com/fadhilayosof/linear-regression-project',\n",
       " 'https://github.com/fadhilayosof/Suicide-Rates-Overview-1985-to-2016-project',\n",
       " 'https://github.com/fadhilayosof/k-means-project/blob/main/Copy_of_k_means_project.ipynb']"
      ]
     },
     "execution_count": 7,
     "metadata": {},
     "output_type": "execute_result"
    },
    {
     "name": "stderr",
     "output_type": "stream",
     "text": [
      "Traceback (most recent call last):\n",
      "  File \"/Users/musubimanagement/opt/anaconda3/lib/python3.8/site-packages/gradio/app.py\", line 199, in predict\n",
      "    prediction, durations = await run_in_threadpool(\n",
      "  File \"/Users/musubimanagement/opt/anaconda3/lib/python3.8/site-packages/starlette/concurrency.py\", line 39, in run_in_threadpool\n",
      "    return await anyio.to_thread.run_sync(func, *args)\n",
      "  File \"/Users/musubimanagement/opt/anaconda3/lib/python3.8/site-packages/anyio/to_thread.py\", line 28, in run_sync\n",
      "    return await get_asynclib().run_sync_in_worker_thread(func, *args, cancellable=cancellable,\n",
      "  File \"/Users/musubimanagement/opt/anaconda3/lib/python3.8/site-packages/anyio/_backends/_asyncio.py\", line 818, in run_sync_in_worker_thread\n",
      "    return await future\n",
      "  File \"/Users/musubimanagement/opt/anaconda3/lib/python3.8/site-packages/anyio/_backends/_asyncio.py\", line 754, in run\n",
      "    result = context.run(func, *args)\n",
      "  File \"/Users/musubimanagement/opt/anaconda3/lib/python3.8/site-packages/gradio/interface.py\", line 530, in process\n",
      "    predictions, durations = self.run_prediction(\n",
      "  File \"/Users/musubimanagement/opt/anaconda3/lib/python3.8/site-packages/gradio/interface.py\", line 487, in run_prediction\n",
      "    prediction = predict_fn(*processed_input)\n",
      "  File \"<ipython-input-1-8b9fdede3428>\", line 20, in class_resume\n",
      "    text_list=split_string()\n",
      "  File \"<ipython-input-1-8b9fdede3428>\", line 15, in split_string\n",
      "    doc = docx2txt.process(path)\n",
      "  File \"/Users/musubimanagement/opt/anaconda3/lib/python3.8/site-packages/docx2txt/docx2txt.py\", line 76, in process\n",
      "    zipf = zipfile.ZipFile(docx)\n",
      "  File \"/Users/musubimanagement/opt/anaconda3/lib/python3.8/zipfile.py\", line 1251, in __init__\n",
      "    self.fp = io.open(file, filemode)\n",
      "FileNotFoundError: [Errno 2] No such file or directory: 'resumes/abraham_resume.docx'\n",
      "Traceback (most recent call last):\n",
      "  File \"/Users/musubimanagement/opt/anaconda3/lib/python3.8/site-packages/gradio/app.py\", line 199, in predict\n",
      "    prediction, durations = await run_in_threadpool(\n",
      "  File \"/Users/musubimanagement/opt/anaconda3/lib/python3.8/site-packages/starlette/concurrency.py\", line 39, in run_in_threadpool\n",
      "    return await anyio.to_thread.run_sync(func, *args)\n",
      "  File \"/Users/musubimanagement/opt/anaconda3/lib/python3.8/site-packages/anyio/to_thread.py\", line 28, in run_sync\n",
      "    return await get_asynclib().run_sync_in_worker_thread(func, *args, cancellable=cancellable,\n",
      "  File \"/Users/musubimanagement/opt/anaconda3/lib/python3.8/site-packages/anyio/_backends/_asyncio.py\", line 818, in run_sync_in_worker_thread\n",
      "    return await future\n",
      "  File \"/Users/musubimanagement/opt/anaconda3/lib/python3.8/site-packages/anyio/_backends/_asyncio.py\", line 754, in run\n",
      "    result = context.run(func, *args)\n",
      "  File \"/Users/musubimanagement/opt/anaconda3/lib/python3.8/site-packages/gradio/interface.py\", line 530, in process\n",
      "    predictions, durations = self.run_prediction(\n",
      "  File \"/Users/musubimanagement/opt/anaconda3/lib/python3.8/site-packages/gradio/interface.py\", line 487, in run_prediction\n",
      "    prediction = predict_fn(*processed_input)\n",
      "  File \"<ipython-input-1-8b9fdede3428>\", line 20, in class_resume\n",
      "    text_list=split_string()\n",
      "  File \"<ipython-input-1-8b9fdede3428>\", line 15, in split_string\n",
      "    doc = docx2txt.process(path)\n",
      "  File \"/Users/musubimanagement/opt/anaconda3/lib/python3.8/site-packages/docx2txt/docx2txt.py\", line 76, in process\n",
      "    zipf = zipfile.ZipFile(docx)\n",
      "  File \"/Users/musubimanagement/opt/anaconda3/lib/python3.8/zipfile.py\", line 1251, in __init__\n",
      "    self.fp = io.open(file, filemode)\n",
      "FileNotFoundError: [Errno 2] No such file or directory: 'resumes/yandys_resume.docx'\n"
     ]
    }
   ],
   "source": [
    "import re\n",
    "match = re.findall(\"(?P<url>https?://[^\\s]+)\", doc)\n",
    "match"
   ]
  },
  {
   "cell_type": "code",
   "execution_count": null,
   "id": "6c24d1e0",
   "metadata": {},
   "outputs": [],
   "source": []
  }
 ],
 "metadata": {
  "kernelspec": {
   "display_name": "Python 3",
   "language": "python",
   "name": "python3"
  },
  "language_info": {
   "codemirror_mode": {
    "name": "ipython",
    "version": 3
   },
   "file_extension": ".py",
   "mimetype": "text/x-python",
   "name": "python",
   "nbconvert_exporter": "python",
   "pygments_lexer": "ipython3",
   "version": "3.8.8"
  }
 },
 "nbformat": 4,
 "nbformat_minor": 5
}
